{
 "cells": [
  {
   "cell_type": "code",
   "execution_count": 1,
   "metadata": {
    "tags": []
   },
   "outputs": [],
   "source": [
    "import json\n",
    "import os\n",
    "from pprint import pprint\n",
    "import numpy as np"
   ]
  },
  {
   "cell_type": "code",
   "execution_count": null,
   "metadata": {},
   "outputs": [],
   "source": []
  },
  {
   "cell_type": "code",
   "execution_count": 2,
   "metadata": {},
   "outputs": [],
   "source": [
    "def read_json(json_path, frame_num):\n",
    "    json_file = os.path.join(json_path, str(frame_num).zfill(6) + '.json')\n",
    "    f = open(json_file)\n",
    "    dic = json.load(f)\n",
    "    nodes = dic['shapes']\n",
    "    all_points = np.zeros((8,4)).tolist()\n",
    "    for node in nodes:\n",
    "        n_name = node['label'].split('_')   # left_1\n",
    "        if   n_name[0] == 'left' and n_name[1] == '0':\n",
    "            p = 0\n",
    "        elif n_name[0] == 'right' and n_name[1] == '0':\n",
    "            p = 1\n",
    "        elif n_name[0] == 'joint' and n_name[1] == '0':\n",
    "            p = 2\n",
    "        elif n_name[0] == 'em' and n_name[1] == '0':\n",
    "            p = 3\n",
    "        elif n_name[0] == 'left' and n_name[1] == '1':\n",
    "            p = 4\n",
    "        elif n_name[0] == 'right' and n_name[1] == '1':\n",
    "            p = 5\n",
    "        elif n_name[0] == 'joint' and n_name[1] == '1':\n",
    "            p = 6\n",
    "        elif n_name[0] == 'em' and n_name[1] == '1':\n",
    "            p = 7\n",
    "        all_points[p][0] = n_name[0]    # for name\n",
    "        all_points[p][1] = n_name[1]    # for tool id\n",
    "        x = node['points'][0][0]\n",
    "        all_points[p][2] = x\n",
    "        y = node['points'][0][1]\n",
    "        all_points[p][3] = y\n",
    "\n",
    "    return all_points"
   ]
  },
  {
   "cell_type": "code",
   "execution_count": 3,
   "metadata": {},
   "outputs": [],
   "source": [
    "def json_check(all_point):\n",
    "    check = ['right','left','joint','em','end',\n",
    "             'right','left','joint','em','end']\n",
    "    for n, node in enumerate(all_point):\n",
    "        print(node[0],check[n])\n",
    "        if node[0] != check[n]:\n",
    "            print('dataset not clean')\n",
    "            break\n",
    "\n",
    "    return"
   ]
  },
  {
   "cell_type": "code",
   "execution_count": 4,
   "metadata": {
    "tags": []
   },
   "outputs": [
    {
     "data": {
      "text/plain": [
       "[['left', '0', 615.7480314960629, 473.2283464566929],\n",
       " ['right', '0', 618.1102362204724, 520.4724409448819],\n",
       " ['joint', '0', 591.3385826771654, 494.48818897637796],\n",
       " ['em', '0', 457.89473684210526, 438.1578947368421],\n",
       " ['left', '1', 716.5354330708661, 628.3464566929134],\n",
       " [0.0, 0.0, 0.0, 0.0],\n",
       " ['joint', '1', 738.5826771653543, 600.0],\n",
       " ['em', '1', 786.6141732283464, 530.7086614173228]]"
      ]
     },
     "execution_count": 4,
     "metadata": {},
     "output_type": "execute_result"
    }
   ],
   "source": [
    "read_json('./test_json_data/Annotations', 339)\n",
    "# all_point.index('right')\n",
    "# json_check(all_point)"
   ]
  },
  {
   "cell_type": "code",
   "execution_count": 5,
   "metadata": {},
   "outputs": [],
   "source": [
    "import matplotlib.pyplot as plt"
   ]
  },
  {
   "cell_type": "code",
   "execution_count": 6,
   "metadata": {},
   "outputs": [],
   "source": [
    "def json2point(input_shape, c_x, c_y, sigma):\n",
    "    img_height = input_shape[0]\n",
    "    img_width = input_shape[1]\n",
    "    X1 = np.linspace(1, img_width, img_width)\n",
    "    Y1 = np.linspace(1, img_height, img_height)\n",
    "    [X, Y] = np.meshgrid(X1, Y1)\n",
    "    \n",
    "    X = X - c_x\n",
    "    Y = Y - c_y\n",
    "    D2 = X * X + Y * Y\n",
    "    E2 = 2.0 * sigma * sigma\n",
    "    Exponent = D2 / E2\n",
    "    heatmap = np.exp(-Exponent)\n",
    "    return heatmap\n"
   ]
  },
  {
   "cell_type": "code",
   "execution_count": 15,
   "metadata": {
    "tags": []
   },
   "outputs": [
    {
     "name": "stdout",
     "output_type": "stream",
     "text": [
      "[[100 100]]\n",
      "array([[0.01121888, 0.0112179 , 0.01120754, 0.01118785, 0.01115888,\n",
      "        0.01112071, 0.01107345, 0.01101722, 0.01095216, 0.01087845],\n",
      "       [0.0112179 , 0.01122549, 0.01122371, 0.01121257, 0.01119211,\n",
      "        0.01116239, 0.01112349, 0.01107552, 0.01101859, 0.01095284],\n",
      "       [0.01120754, 0.01122371, 0.01123052, 0.01122798, 0.0112161 ,\n",
      "        0.01119491, 0.01116448, 0.01112487, 0.0110762 , 0.01101859],\n",
      "       [0.01118785, 0.01121257, 0.01122798, 0.01123406, 0.01123079,\n",
      "        0.0112182 , 0.0111963 , 0.01116517, 0.01112487, 0.01107552],\n",
      "       [0.01115888, 0.01119211, 0.0112161 , 0.01123079, 0.01123616,\n",
      "        0.01123219, 0.01121889, 0.0111963 , 0.01116448, 0.01112349],\n",
      "       [0.01112071, 0.01116239, 0.01119491, 0.0112182 , 0.01123219,\n",
      "        0.01123686, 0.01123219, 0.0112182 , 0.01119491, 0.01116239],\n",
      "       [0.01107345, 0.01112349, 0.01116448, 0.0111963 , 0.01121889,\n",
      "        0.01123219, 0.01123616, 0.01123079, 0.0112161 , 0.01119211],\n",
      "       [0.01101722, 0.01107552, 0.01112487, 0.01116517, 0.0111963 ,\n",
      "        0.0112182 , 0.01123079, 0.01123406, 0.01122798, 0.01121257],\n",
      "       [0.01095216, 0.01101859, 0.0110762 , 0.01112487, 0.01116448,\n",
      "        0.01119491, 0.0112161 , 0.01122798, 0.01123052, 0.01122371],\n",
      "       [0.01087845, 0.01095284, 0.01101859, 0.01107552, 0.01112349,\n",
      "        0.01116239, 0.01119211, 0.01121257, 0.01122371, 0.01122549]])\n"
     ]
    },
    {
     "data": {
      "image/png": "[encoded data removed]",
      "text/plain": [
       "<Figure size 432x288 with 3 Axes>"
      ]
     },
     "metadata": {
      "needs_background": "light"
     },
     "output_type": "display_data"
    }
   ],
   "source": [
    "h = 200\n",
    "w = 200\n",
    "c = 1\n",
    "cx = int(np.round(w/2))\n",
    "cy = int(np.round(h/2))\n",
    "\n",
    "heatmap = json2point([h, w], cx, cy, 25)\n",
    "# pprint(heatmap)\n",
    "\n",
    "from scipy.ndimage import gaussian_filter\n",
    "import cv2\n",
    "\n",
    "b = np.zeros((c, h, w))\n",
    "# cv2.circle(b, (cx, cy), 1 , 1, cv2.FILLED)\n",
    "# b[0,cx,cy]=1\n",
    "b[0,cx+20,cy+20]=1\n",
    "b[0,cx-20,cy-20]=1\n",
    "\n",
    "b = gaussian_filter(b, 25)\n",
    "maxi = np.amax(b)\n",
    "# print(maxi)\n",
    "b = b * 1/maxi\n",
    "from skimage.feature import peak_local_max\n",
    "maxi=peak_local_max(b[0], min_distance=5)\n",
    "# print(maxi.shape)\n",
    "# print(b[0,maxi[0,0],maxi[0,1]])\n",
    "# print(b[0,maxi[1,0],maxi[1,1]])\n",
    "\n",
    "c = np.zeros((h,w))\n",
    "cv2.line(c, (cx-50,cy-50),(cx+50,cy+50),1,1)\n",
    "c = gaussian_filter(c, 25)\n",
    "maxi=peak_local_max(c, min_distance=5)\n",
    "print(maxi)\n",
    "pprint(c[95:105,95:105])\n",
    "\n",
    "plt.subplot(1,3,1)\n",
    "# plt.imshow(heatmap[200:300, 200:300])\n",
    "plt.imshow(heatmap)\n",
    "\n",
    "\n",
    "plt.subplot(1,3,2)\n",
    "# plt.imshow(b[200:300, 200:300])\n",
    "plt.imshow(b[0,:,:])\n",
    "\n",
    "\n",
    "plt.subplot(1,3,3)\n",
    "plt.imshow(c)\n",
    "\n",
    "plt.show()"
   ]
  },
  {
   "cell_type": "code",
   "execution_count": 204,
   "metadata": {
    "tags": []
   },
   "outputs": [
    {
     "name": "stdout",
     "output_type": "stream",
     "text": [
      "array([[0.00042237, 0.0004244 , 0.00042586, 0.00042675, 0.00042707,\n",
      "        0.00042681, 0.00042598, 0.00042458, 0.00042261, 0.00042009],\n",
      "       [0.0004244 , 0.00042654, 0.00042812, 0.00042912, 0.00042955,\n",
      "        0.0004294 , 0.00042867, 0.00042737, 0.0004255 , 0.00042307],\n",
      "       [0.00042586, 0.00042812, 0.00042981, 0.00043093, 0.00043147,\n",
      "        0.00043143, 0.00043081, 0.00042961, 0.00042784, 0.0004255 ],\n",
      "       [0.00042675, 0.00042912, 0.00043093, 0.00043216, 0.00043281,\n",
      "        0.00043288, 0.00043237, 0.00043127, 0.00042961, 0.00042737],\n",
      "       [0.00042707, 0.00042955, 0.00043147, 0.00043281, 0.00043357,\n",
      "        0.00043375, 0.00043335, 0.00043237, 0.00043081, 0.00042867],\n",
      "       [0.00042681, 0.0004294 , 0.00043143, 0.00043288, 0.00043375,\n",
      "        0.00043404, 0.00043375, 0.00043288, 0.00043143, 0.0004294 ],\n",
      "       [0.00042598, 0.00042867, 0.00043081, 0.00043237, 0.00043335,\n",
      "        0.00043375, 0.00043357, 0.00043281, 0.00043147, 0.00042955],\n",
      "       [0.00042458, 0.00042737, 0.00042961, 0.00043127, 0.00043237,\n",
      "        0.00043288, 0.00043281, 0.00043216, 0.00043093, 0.00042912],\n",
      "       [0.00042261, 0.0004255 , 0.00042784, 0.00042961, 0.00043081,\n",
      "        0.00043143, 0.00043147, 0.00043093, 0.00042981, 0.00042812],\n",
      "       [0.00042009, 0.00042307, 0.0004255 , 0.00042737, 0.00042867,\n",
      "        0.0004294 , 0.00042955, 0.00042912, 0.00042812, 0.00042654]])\n"
     ]
    }
   ],
   "source": [
    "# pprint(b[248:252, 248:252])\n",
    "pprint(b[0,95:105,95:105])"
   ]
  },
  {
   "cell_type": "code",
   "execution_count": 192,
   "metadata": {
    "tags": []
   },
   "outputs": [
    {
     "name": "stdout",
     "output_type": "stream",
     "text": [
      "array([[1.54727551e-07, 1.81139207e-07, 2.11720252e-07, ...,\n",
      "        1.81139207e-07, 1.54727551e-07, 1.31955644e-07],\n",
      "       [1.81139207e-07, 2.12059275e-07, 2.47860438e-07, ...,\n",
      "        2.12059275e-07, 1.81139207e-07, 1.54480185e-07],\n",
      "       [2.11720252e-07, 2.47860438e-07, 2.89705774e-07, ...,\n",
      "        2.47860438e-07, 2.11720252e-07, 1.80560488e-07],\n",
      "       ...,\n",
      "       [1.81139207e-07, 2.12059275e-07, 2.47860438e-07, ...,\n",
      "        2.12059275e-07, 1.81139207e-07, 1.54480185e-07],\n",
      "       [1.54727551e-07, 1.81139207e-07, 2.11720252e-07, ...,\n",
      "        1.81139207e-07, 1.54727551e-07, 1.31955644e-07],\n",
      "       [1.31955644e-07, 1.54480185e-07, 1.80560488e-07, ...,\n",
      "        1.54480185e-07, 1.31955644e-07, 1.12535175e-07]])\n"
     ]
    }
   ],
   "source": [
    "# pprint(heatmap[248:252, 248:252])\n",
    "pprint(heatmap)"
   ]
  },
  {
   "cell_type": "code",
   "execution_count": 61,
   "metadata": {
    "tags": []
   },
   "outputs": [
    {
     "data": {
      "text/plain": [
       "<matplotlib.image.AxesImage at 0x7f9a180710b8>"
      ]
     },
     "execution_count": 61,
     "metadata": {},
     "output_type": "execute_result"
    },
    {
     "data": {
      "image/png": "[encoded data removed]",
      "text/plain": [
       "<Figure size 432x288 with 2 Axes>"
      ]
     },
     "metadata": {
      "needs_background": "light"
     },
     "output_type": "display_data"
    }
   ],
   "source": [
    "h = 1000\n",
    "w = 500\n",
    "cx = 50\n",
    "cy = 700\n",
    "\n",
    "a = np.zeros((h, w, 3))\n",
    "cv2.circle(a, (cx, cy), 30 , 1, cv2.FILLED)\n",
    "plt.subplot(1,2,1)\n",
    "plt.imshow(a)\n",
    "\n",
    "\n",
    "b = cv2.resize(a, (int(w/2),int(h/2)))\n",
    "cxb = int(np.round(0.5 * cx))\n",
    "cyb = int(np.round(0.5 * cy))\n",
    "cv2.circle(b, (cxb, cyb), 15 , 1, cv2.FILLED)\n",
    "plt.subplot(1,2,2)\n",
    "plt.imshow(b)"
   ]
  },
  {
   "cell_type": "code",
   "execution_count": 52,
   "metadata": {},
   "outputs": [
    {
     "data": {
      "text/plain": [
       "array([[0., 0.],\n",
       "       [0., 0.]])"
      ]
     },
     "execution_count": 52,
     "metadata": {},
     "output_type": "execute_result"
    }
   ],
   "source": [
    "a=np.zeros((3,2,2))\n",
    "a[1,:,:]"
   ]
  },
  {
   "cell_type": "code",
   "execution_count": null,
   "metadata": {},
   "outputs": [],
   "source": []
  }
 ],
 "metadata": {
  "kernelspec": {
   "display_name": "Python 3",
   "language": "python",
   "name": "python3"
  },
  "language_info": {
   "codemirror_mode": {
    "name": "ipython",
    "version": 3
   },
   "file_extension": ".py",
   "mimetype": "text/x-python",
   "name": "python",
   "nbconvert_exporter": "python",
   "pygments_lexer": "ipython3",
   "version": "3.6.9"
  }
 },
 "nbformat": 4,
 "nbformat_minor": 2
}
