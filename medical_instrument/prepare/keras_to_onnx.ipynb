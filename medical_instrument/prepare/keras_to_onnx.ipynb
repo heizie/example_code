{
 "cells": [
  {
   "cell_type": "code",
   "execution_count": 5,
   "metadata": {},
   "outputs": [],
   "source": [
    "import tensorflow as tf\n",
    "import matplotlib.pyplot as plt\n",
    "import numpy as np\n",
    "import matplotlib.cm as cm\n",
    "import cv2\n",
    "import time\n",
    "from skimage.feature import peak_local_max\n",
    "\n",
    "import keras2onnx\n",
    "import onnxruntime as rt\n",
    "import onnx\n",
    "\n",
    "from sklearn.cluster import KMeans"
   ]
  },
  {
   "cell_type": "code",
   "execution_count": 6,
   "metadata": {},
   "outputs": [],
   "source": [
    "## help to plot all the layers\n",
    "def plt_multi(img,m,bin_den,max_draw, nchw):\n",
    "    fig=plt.figure(figsize=(50, 15))\n",
    "    columns = 4\n",
    "    rows = 2\n",
    "    if nchw:\n",
    "        m_plot = np.array(tf.transpose(m[bin_den], [0, 2, 3, 1]))\n",
    "    else:\n",
    "        m_plot = m[bin_den]\n",
    "    for i in range(0, rows*columns-1):\n",
    "        fig.add_subplot(rows, columns, i+1).set_title(i)\n",
    "        img_plot = img\n",
    "        if max_draw > 0:\n",
    "            try:\n",
    "    #             coordinates = peak_local_max(m_plot[0, :, :, i], min_distance=34, threshold_abs = 0.7)\n",
    "    #             print(coordinates)\n",
    "    #             print(coordinates[:, 1].shape[0])\n",
    "                _,ly = cv2.threshold(m_plot[0, :, :, i],max_draw,1, cv2.THRESH_BINARY)\n",
    "                ly = np.transpose(np.nonzero(ly))\n",
    "                kmeans = KMeans(n_clusters=2, random_state=0).fit(ly)\n",
    "                coordinates = kmeans.cluster_centers_\n",
    "    #             print(i)\n",
    "    #             print(coordinates)\n",
    "\n",
    "                plt.scatter(coordinates[:, 1], coordinates[:, 0],s=5, c='r')\n",
    "                plt.imshow(img)\n",
    "                plt.imshow(m_plot[0, :, :, i], alpha=0.5,cmap=cm.binary)\n",
    "\n",
    "            except:\n",
    "                plt.imshow(m_plot[0, :, :, i],cmap=cm.binary)\n",
    "\n",
    "        else:\n",
    "            plt.imshow(img)\n",
    "            plt.imshow(m_plot[0, :, :, i], alpha=0.5,cmap=cm.binary)\n",
    "        \n",
    "        \n",
    "    fig.add_subplot(rows, columns, 8).set_title(\"img\")\n",
    "    plt.imshow(img,cmap=cm.binary)\n",
    "    plt.show()"
   ]
  },
  {
   "cell_type": "code",
   "execution_count": 8,
   "metadata": {},
   "outputs": [],
   "source": [
    "# MIMED\n",
    "model = tf.keras.models.load_model('/tf/project/instrument-tracking/src/saved_model/MIMED_rd34_sig10_09_28_12_47_aug0.5_decay_default.h5', compile=False)\n",
    "\n",
    "# ENDOVIS\n",
    "# model = tf.keras.models.load_model('/tf/project/instrument-pose-tracking/src/tf_data/checkpoint/aug_proba_0.5_decay_default_model_rd34_sigma10_skip.ckpt', compile=False)"
   ]
  },
  {
   "cell_type": "code",
   "execution_count": null,
   "metadata": {},
   "outputs": [],
   "source": [
    "# MIMED\n",
    "img = cv2.imread('/tf/project/test/MIMED_test_img_0.png')\n",
    "img = cv2.resize(img,(320, 256))\n",
    "img_nchw = tf.transpose(img, [2, 0, 1])\n",
    "img_tf = np.array([img_nchw])\n",
    "\n",
    "\n",
    "# ENDOVIS\n",
    "# img = cv2.imread('/tf/project/test/ENDOVIS_test_img_0.png')\n",
    "# img_nhwc = cv2.cvtColor(img, cv2.COLOR_BGR2RGB)\n",
    "# img_tf = np.array([img_nhwc])\n",
    "\n",
    "# for matplotlib\n",
    "img_rgb = cv2.cvtColor(img, cv2.COLOR_BGR2RGB)"
   ]
  },
  {
   "cell_type": "code",
   "execution_count": null,
   "metadata": {},
   "outputs": [],
   "source": [
    "m = model.predict(img_tf)"
   ]
  },
  {
   "cell_type": "code",
   "execution_count": null,
   "metadata": {},
   "outputs": [],
   "source": [
    "# MIMED\n",
    "plt_multi(img_rgb,m,1,0.7,1)\n",
    "\n",
    "\n",
    "# ENDOVIS\n",
    "# plt_multi(img_rgb,m,1,0.5,0)"
   ]
  },
  {
   "cell_type": "code",
   "execution_count": null,
   "metadata": {},
   "outputs": [],
   "source": [
    "onnx_model = keras2onnx.convert_keras(model, model.name)"
   ]
  },
  {
   "cell_type": "code",
   "execution_count": null,
   "metadata": {},
   "outputs": [],
   "source": [
    "content = onnx_model.SerializeToString()\n",
    "sess = rt.InferenceSession(content)\n",
    "input_name = sess.get_inputs()[0].name"
   ]
  },
  {
   "cell_type": "code",
   "execution_count": null,
   "metadata": {},
   "outputs": [],
   "source": [
    "# MIMED\n",
    "img_onnx = [img_nchw]\n",
    "\n",
    "\n",
    "# ENDOVIS\n",
    "# img_onnx = [img_nhwc]"
   ]
  },
  {
   "cell_type": "code",
   "execution_count": null,
   "metadata": {},
   "outputs": [],
   "source": [
    "m = sess.run(None, {input_name: img_onnx})"
   ]
  },
  {
   "cell_type": "code",
   "execution_count": null,
   "metadata": {},
   "outputs": [],
   "source": [
    "# MIMED\n",
    "plt_multi(img_rgb,m,1,0.5,1)\n",
    "\n",
    "\n",
    "# ENDOVIS\n",
    "# plt_multi(img_rgb,m,1,0,0)"
   ]
  },
  {
   "cell_type": "code",
   "execution_count": 12,
   "metadata": {},
   "outputs": [],
   "source": [
    "# temp_model_file = 'MIMED_model.onnx'\n",
    "# keras2onnx.save_model(onnx_model, temp_model_file)"
   ]
  },
  {
   "cell_type": "code",
   "execution_count": null,
   "metadata": {},
   "outputs": [],
   "source": []
  }
 ],
 "metadata": {
  "kernelspec": {
   "display_name": "Python 3",
   "language": "python",
   "name": "python3"
  },
  "language_info": {
   "codemirror_mode": {
    "name": "ipython",
    "version": 3
   },
   "file_extension": ".py",
   "mimetype": "text/x-python",
   "name": "python",
   "nbconvert_exporter": "python",
   "pygments_lexer": "ipython3",
   "version": "3.6.9"
  }
 },
 "nbformat": 4,
 "nbformat_minor": 2
}
